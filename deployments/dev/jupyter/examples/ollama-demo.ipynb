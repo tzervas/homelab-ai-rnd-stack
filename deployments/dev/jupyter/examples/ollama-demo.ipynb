{
 "cells": [
  {
   "cell_type": "markdown",
   "metadata": {},
   "source": [
    "# Ollama Integration Demo\n",
    "\n",
    "This notebook demonstrates how to use Ollama's API from within JupyterLab."
   ]
  },
  {
   "cell_type": "code",
   "execution_count": null,
   "metadata": {},
   "source": [
    "import os\n",
    "import requests\n",
    "import json\n",
    "\n",
    "# Ollama API endpoint\n",
    "OLLAMA_HOST = os.getenv('OLLAMA_HOST', 'http://localhost:11434')\n",
    "\n",
    "def list_models():\n",
    "    \"\"\"List available models in Ollama\"\"\"\n",
    "    response = requests.get(f\"{OLLAMA_HOST}/api/tags\")\n",
    "    return response.json()\n",
    "\n",
    "def generate(model: str, prompt: str):\n",
    "    \"\"\"Generate text using specified model\"\"\"\n",
    "    response = requests.post(\n",
    "        f\"{OLLAMA_HOST}/api/generate\",\n",
    "        json={\"model\": model, \"prompt\": prompt}\n",
    "    )\n",
    "    return response.json()\n",
    "\n",
    "print(\"Checking available models...\")\n",
    "models = list_models()\n",
    "print(json.dumps(models, indent=2))"
   ]
  },
  {
   "cell_type": "markdown",
   "metadata": {},
   "source": [
    "## Simple Text Generation\n",
    "\n",
    "Let's try generating some text with a basic model."
   ]
  },
  {
   "cell_type": "code",
   "execution_count": null,
   "metadata": {},
   "source": [
    "model = \"llama2\"  # Change this to any available model\n",
    "prompt = \"Explain how to use Python's requests library in three sentences.\"\n",
    "\n",
    "response = generate(model, prompt)\n",
    "print(response['response'])"
   ]
  },
  {
   "cell_type": "markdown",
   "metadata": {},
   "source": [
    "## Code Generation\n",
    "\n",
    "Let's try generating some Python code using CodeLlama."
   ]
  },
  {
   "cell_type": "code",
   "execution_count": null,
   "metadata": {},
   "source": [
    "model = \"codellama\"\n",
    "prompt = \"Write a Python function that calculates the Fibonacci sequence up to n terms.\"\n",
    "\n",
    "response = generate(model, prompt)\n",
    "print(response['response'])"
   ]
  },
  {
   "cell_type": "markdown",
   "metadata": {},
   "source": [
    "## Interactive Chat\n",
    "\n",
    "Here's how to have an interactive conversation using the chat API."
   ]
  },
  {
   "cell_type": "code",
   "execution_count": null,
   "metadata": {},
   "source": [
    "def chat(model: str, messages: list):\n",
    "    \"\"\"Interactive chat with the model\"\"\"\n",
    "    response = requests.post(\n",
    "        f\"{OLLAMA_HOST}/api/chat\",\n",
    "        json={\"model\": model, \"messages\": messages}\n",
    "    )\n",
    "    return response.json()\n",
    "\n",
    "conversation = [\n",
    "    {\"role\": \"system\", \"content\": \"You are a helpful Python programming assistant.\"},\n",
    "    {\"role\": \"user\", \"content\": \"What's the difference between a list and a tuple in Python?\"}\n",
    "]\n",
    "\n",
    "response = chat(\"llama2\", conversation)\n",
    "print(response['message']['content'])"
   ]
  },
  {
   "cell_type": "markdown",
   "metadata": {},
   "source": [
    "## Using the Ollama Python Package\n",
    "\n",
    "For more advanced usage, we can use the official Ollama Python package."
   ]
  },
  {
   "cell_type": "code",
   "execution_count": null,
   "metadata": {},
   "source": [
    "import ollama\n",
    "\n",
    "# Stream a response\n",
    "prompt = \"Write a haiku about Python programming.\"\n",
    "print(\"Generating haiku...\\n\")\n",
    "\n",
    "for chunk in ollama.stream(model='llama2', prompt=prompt):\n",
    "    print(chunk['response'], end='')\n",
    "print('\\n')"
   ]
  }
 ],
 "metadata": {
  "kernelspec": {
   "display_name": "Python 3",
   "language": "python",
   "name": "python3"
  },
  "language_info": {
   "codemirror_mode": {
    "name": "ipython",
    "version": 3
   },
   "file_extension": ".py",
   "mimetype": "text/x-python",
   "name": "python",
   "nbconvert_exporter": "python",
   "pygments_lexer": "ipython3",
   "version": "3.12"
  }
 },
 "nbformat": 4,
 "nbformat_minor": 4
}
